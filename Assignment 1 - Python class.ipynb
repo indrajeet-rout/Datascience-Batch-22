{
 "cells": [
  {
   "cell_type": "code",
   "execution_count": 8,
   "id": "c05b22f7",
   "metadata": {},
   "outputs": [],
   "source": [
    "lst = [1,2,3,4]"
   ]
  },
  {
   "cell_type": "markdown",
   "id": "e303e3ec",
   "metadata": {},
   "source": [
    "lst.append(4)\n",
    "\n",
    "\n",
    "#adds 4 at the end of the list"
   ]
  },
  {
   "cell_type": "code",
   "execution_count": 3,
   "id": "aaaf6962",
   "metadata": {},
   "outputs": [
    {
     "name": "stdout",
     "output_type": "stream",
     "text": [
      "[1, 2, 3, 4, 4]\n"
     ]
    }
   ],
   "source": [
    "print(lst)"
   ]
  },
  {
   "cell_type": "code",
   "execution_count": 6,
   "id": "44007900",
   "metadata": {},
   "outputs": [],
   "source": [
    "lst.clear()"
   ]
  },
  {
   "cell_type": "code",
   "execution_count": 7,
   "id": "b3a9b3ca",
   "metadata": {},
   "outputs": [
    {
     "name": "stdout",
     "output_type": "stream",
     "text": [
      "[]\n"
     ]
    }
   ],
   "source": [
    "print(lst)"
   ]
  },
  {
   "cell_type": "code",
   "execution_count": 10,
   "id": "4e8a53ce",
   "metadata": {},
   "outputs": [
    {
     "data": {
      "text/plain": [
       "[1, 2, 3, 4]"
      ]
     },
     "execution_count": 10,
     "metadata": {},
     "output_type": "execute_result"
    }
   ],
   "source": [
    "lst.copy()\n"
   ]
  },
  {
   "cell_type": "markdown",
   "id": "41174d57",
   "metadata": {},
   "source": [
    "lst.count(3)\n",
    "# count the number of occurance of 3 in the list."
   ]
  },
  {
   "cell_type": "markdown",
   "id": "c0645215",
   "metadata": {},
   "source": [
    "x = lst.index(1)\n",
    "print(x)\n",
    "# returns the index position of 1 in the list"
   ]
  },
  {
   "cell_type": "code",
   "execution_count": 15,
   "id": "3c77fc23",
   "metadata": {},
   "outputs": [],
   "source": [
    "lst.extend([1])"
   ]
  },
  {
   "cell_type": "markdown",
   "id": "8c958d0d",
   "metadata": {},
   "source": [
    "print(lst)\n",
    "# extend method only considers a list as an input. It add the list to the existing list."
   ]
  },
  {
   "cell_type": "markdown",
   "id": "e3720814",
   "metadata": {},
   "source": [
    "lst.insert(1,2)\n",
    "print(lst)\n",
    "# insert 2 at index 1."
   ]
  },
  {
   "cell_type": "code",
   "execution_count": 21,
   "id": "7e09937b",
   "metadata": {},
   "outputs": [
    {
     "name": "stdout",
     "output_type": "stream",
     "text": [
      "[1, 3, 4, 1]\n"
     ]
    }
   ],
   "source": [
    "lst.pop(1)\n",
    "print(lst)"
   ]
  },
  {
   "cell_type": "markdown",
   "id": "5518ff4b",
   "metadata": {},
   "source": [
    "# The pop() method removes the element at the specified position\n",
    "\n",
    "\n"
   ]
  },
  {
   "cell_type": "code",
   "execution_count": 22,
   "id": "d3b5ef90",
   "metadata": {},
   "outputs": [
    {
     "name": "stdout",
     "output_type": "stream",
     "text": [
      "[1, 4, 1]\n"
     ]
    }
   ],
   "source": [
    "lst.remove(3)\n",
    "print(lst)"
   ]
  },
  {
   "cell_type": "markdown",
   "id": "2f5b064f",
   "metadata": {},
   "source": [
    "#The remove() method removes the specified item.\n",
    "\n"
   ]
  },
  {
   "cell_type": "code",
   "execution_count": 23,
   "id": "84c64f22",
   "metadata": {},
   "outputs": [],
   "source": [
    "lst.reverse()"
   ]
  },
  {
   "cell_type": "code",
   "execution_count": 24,
   "id": "0c08d9b1",
   "metadata": {},
   "outputs": [
    {
     "name": "stdout",
     "output_type": "stream",
     "text": [
      "[1, 4, 1]\n"
     ]
    }
   ],
   "source": [
    "print(lst)"
   ]
  },
  {
   "cell_type": "markdown",
   "id": "e761b89e",
   "metadata": {},
   "source": [
    "#The reverse() method reverses the sorting order of the elements.\n",
    "\n"
   ]
  }
 ],
 "metadata": {
  "kernelspec": {
   "display_name": "Python 3 (ipykernel)",
   "language": "python",
   "name": "python3"
  },
  "language_info": {
   "codemirror_mode": {
    "name": "ipython",
    "version": 3
   },
   "file_extension": ".py",
   "mimetype": "text/x-python",
   "name": "python",
   "nbconvert_exporter": "python",
   "pygments_lexer": "ipython3",
   "version": "3.10.9"
  }
 },
 "nbformat": 4,
 "nbformat_minor": 5
}
