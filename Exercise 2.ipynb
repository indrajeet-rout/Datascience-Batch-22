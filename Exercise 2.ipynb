{
 "cells": [
  {
   "cell_type": "markdown",
   "id": "24b5f957",
   "metadata": {},
   "source": [
    "1. Write a Python program to count the number of even and odd numbers from a series of numbers."
   ]
  },
  {
   "cell_type": "code",
   "execution_count": 15,
   "id": "3ec6d92b",
   "metadata": {},
   "outputs": [],
   "source": [
    "\n",
    "# initilized variarable i to represent count of even numbers and variable j to represent count of odd numbers\n",
    "series = [1,2,3,4,5,6,7,8,9,10]\n",
    "i=0\n",
    "k=0\n"
   ]
  },
  {
   "cell_type": "code",
   "execution_count": 16,
   "id": "3b2f9e72",
   "metadata": {},
   "outputs": [],
   "source": [
    "\n",
    "#check if the given item is odd or even\n",
    "for items in series:\n",
    "    if items %2 == 0:\n",
    "        i= i+1\n",
    "    else:\n",
    "        k = k+1"
   ]
  },
  {
   "cell_type": "code",
   "execution_count": 17,
   "id": "01104a02",
   "metadata": {},
   "outputs": [
    {
     "name": "stdout",
     "output_type": "stream",
     "text": [
      "Number of even numbers: 5\n",
      "Number of odd numbers: 5\n"
     ]
    }
   ],
   "source": [
    "# print the count of even and odd numbers.\n",
    "\n",
    "print(\"Number of even numbers: \" + str(i))\n",
    "print(\"Number of odd numbers: \" + str(k))"
   ]
  },
  {
   "cell_type": "markdown",
   "id": "1a2fa359",
   "metadata": {},
   "source": [
    "2. Write a Python program to find numbers between 100 and 400 (both included) where each digit of a number is an even number. The numbers obtained should be printed in a comma-separated sequence."
   ]
  },
  {
   "cell_type": "code",
   "execution_count": 18,
   "id": "ba62717b",
   "metadata": {},
   "outputs": [],
   "source": [
    "result = []\n",
    "\n",
    "for num in range(100, 401):\n",
    "    # Check if all digits are even\n",
    "    if all(int(digit) % 2 == 0 for digit in str(num)):\n",
    "        result.append(str(num))\n",
    "\n"
   ]
  },
  {
   "cell_type": "code",
   "execution_count": 19,
   "id": "8a191b98",
   "metadata": {},
   "outputs": [
    {
     "name": "stdout",
     "output_type": "stream",
     "text": [
      "200, 202, 204, 206, 208, 220, 222, 224, 226, 228, 240, 242, 244, 246, 248, 260, 262, 264, 266, 268, 280, 282, 284, 286, 288, 400\n"
     ]
    }
   ],
   "source": [
    "# Join the list of results with commas and print\n",
    "print(\", \".join(result))\n",
    "\n",
    "\n"
   ]
  },
  {
   "cell_type": "markdown",
   "id": "b196c5aa",
   "metadata": {},
   "source": [
    "3. Write a Python program to calculate a dog's age in dog's years. Go to the editor"
   ]
  },
  {
   "cell_type": "code",
   "execution_count": 20,
   "id": "b7ce224b",
   "metadata": {},
   "outputs": [
    {
     "name": "stdout",
     "output_type": "stream",
     "text": [
      "Input a dog's age in human years:20\n",
      "The dog's age in dog's years is 93\n"
     ]
    }
   ],
   "source": [
    "# get dogs age in human years\n",
    "\n",
    "human_years = int(input(\"Input a dog's age in human years:\"))\n",
    "# initialized dogs age in dogs years\n",
    "dog_years = 0\n",
    "\n",
    "# assign 10.5 years to each human years for the first two years \n",
    "if human_years <= 2:\n",
    "    dogs_years = 10.5*human_years\n",
    "\n",
    "    # assign 4 times the human years after the first two years \n",
    "else:       \n",
    "    dog_years = 21 + 4*(human_years -2)\n",
    "\n",
    "print(\"The dog's age in dog's years is \" + str(dog_years))\n",
    "\n"
   ]
  },
  {
   "cell_type": "markdown",
   "id": "2024f43c",
   "metadata": {},
   "source": [
    "4. Write a Python function to find the Max of three numbers."
   ]
  },
  {
   "cell_type": "code",
   "execution_count": 22,
   "id": "a9a74f70",
   "metadata": {},
   "outputs": [
    {
     "name": "stdout",
     "output_type": "stream",
     "text": [
      "The three numbers are:21,12,-6\n",
      "21\n"
     ]
    }
   ],
   "source": [
    "\n",
    "\n",
    "def max_function():\n",
    "    \n",
    "# get three number as input from  the user separated by comma,and then slit it to three digits\n",
    "\n",
    "    num1,num2,num3 = map(int,input(\"The three numbers are:\" ).split(\",\"))\n",
    "    \n",
    "    # to identify the maximum number of the three numbers provided  \n",
    "    if num1 >= num2 and num1 >= num3:\n",
    "        return num1\n",
    "    elif num2 >= num1 and num2 >= num3:\n",
    "        return num2\n",
    "    else:\n",
    "        return num3\n",
    "# call the user defined function\n",
    "max = max_function()\n",
    "print(max)\n",
    "\n"
   ]
  },
  {
   "cell_type": "markdown",
   "id": "6b981da3",
   "metadata": {},
   "source": [
    "5. Write a Python function that takes a number as a parameter and check the number is prime or not.\n"
   ]
  },
  {
   "cell_type": "code",
   "execution_count": 23,
   "id": "c89465f1",
   "metadata": {},
   "outputs": [
    {
     "name": "stdout",
     "output_type": "stream",
     "text": [
      "The number is 11\n"
     ]
    },
    {
     "data": {
      "text/plain": [
       "True"
      ]
     },
     "execution_count": 23,
     "metadata": {},
     "output_type": "execute_result"
    }
   ],
   "source": [
    "def prime_number(integer):\n",
    "    \n",
    "    \"\"\"\n",
    "    Check if a number is prime.\n",
    "\n",
    "    Args:\n",
    "        number (int): The number to be checked.\n",
    "\n",
    "    Returns:\n",
    "        bool: True if the number is prime, False otherwise.\n",
    "    \n",
    "    \"\"\"\n",
    "\n",
    "    print(\"The number is \"+ str(integer))\n",
    "    \n",
    "    if integer <2:\n",
    "        return False\n",
    "    for numbers in range(2,integer):\n",
    "        if integer%numbers ==0:\n",
    "            return False\n",
    "    \n",
    "    return True\n",
    "    \n",
    "    \n",
    "prime_number(11)"
   ]
  },
  {
   "cell_type": "markdown",
   "id": "f6935962",
   "metadata": {},
   "source": [
    "6. Write a Python function that accepts a string and calculate the number of upper case letters and lower case letters. Go to the editor\n"
   ]
  },
  {
   "cell_type": "code",
   "execution_count": 25,
   "id": "be030025",
   "metadata": {},
   "outputs": [
    {
     "name": "stdout",
     "output_type": "stream",
     "text": [
      "Original String:Inceptz is One of The BeSt Places TO LEarn DataSciEnce\n",
      " The number of upper case letters is 13\n",
      " The number of lower case letters is 32\n"
     ]
    }
   ],
   "source": [
    "def upper_lower ():\n",
    "    \n",
    "    \"\"\"\n",
    "    Count the number of Upper case and lower case\n",
    "\n",
    "    Args:\n",
    "        String (str): The string to be checked.\n",
    "\n",
    "    Returns:\n",
    "        int: number of Upper case and number of lower case\n",
    "    \n",
    "    \"\"\"\n",
    "    upper = 0\n",
    "    lower = 0\n",
    "    sentence = input(\"Original String:\")\n",
    "    for letter in sentence:\n",
    "        if letter.isupper()and letter != \" \":\n",
    "            upper +=1\n",
    "        elif letter.islower()and letter != \" \":\n",
    "            lower +=1\n",
    "    \n",
    "    print(f\" The number of upper case letters is {upper}\")\n",
    "    \n",
    "    print(f\" The number of lower case letters is {lower}\")\n",
    "\n",
    "upper_lower()"
   ]
  },
  {
   "cell_type": "markdown",
   "id": "ebadc75e",
   "metadata": {},
   "source": [
    "7. Write a Python program to reverse a string.\n"
   ]
  },
  {
   "cell_type": "code",
   "execution_count": 26,
   "id": "f1d7d51d",
   "metadata": {},
   "outputs": [
    {
     "name": "stdout",
     "output_type": "stream",
     "text": [
      "The Original String is :absdcffg\n",
      "The reversed string is : gffcdsba\n"
     ]
    }
   ],
   "source": [
    "string = input(\"The Original String is :\")\n",
    "reversed_string = string[::-1]\n",
    "print(f\"The reversed string is : {reversed_string}\")\n",
    "\n"
   ]
  },
  {
   "cell_type": "markdown",
   "id": "f53cbf62",
   "metadata": {},
   "source": [
    "8. Write a Python program to find the greatest common divisor (gcd) of two integers.\n"
   ]
  },
  {
   "cell_type": "code",
   "execution_count": 27,
   "id": "fe7a3a99",
   "metadata": {},
   "outputs": [
    {
     "name": "stdout",
     "output_type": "stream",
     "text": [
      "The two numbers are :12,24\n",
      "The GCD of the numbers are: 12\n"
     ]
    }
   ],
   "source": [
    "def gcd():\n",
    "    num1,num2  = map(int,(input(\"The two numbers are :\").split (\",\")))\n",
    "    min_number = min(num1, num2)\n",
    "    for num in range (1,min_number+1):\n",
    "        if num1%num == 0 and num2%num == 0:\n",
    "            x = num\n",
    "    return x\n",
    "    \n",
    "result = gcd\n",
    "\n",
    "print(f\"The GCD of the numbers are: {gcd()}\")\n",
    "    \n"
   ]
  },
  {
   "cell_type": "code",
   "execution_count": null,
   "id": "8ab088c6",
   "metadata": {},
   "outputs": [],
   "source": []
  }
 ],
 "metadata": {
  "kernelspec": {
   "display_name": "Python 3 (ipykernel)",
   "language": "python",
   "name": "python3"
  },
  "language_info": {
   "codemirror_mode": {
    "name": "ipython",
    "version": 3
   },
   "file_extension": ".py",
   "mimetype": "text/x-python",
   "name": "python",
   "nbconvert_exporter": "python",
   "pygments_lexer": "ipython3",
   "version": "3.10.9"
  }
 },
 "nbformat": 4,
 "nbformat_minor": 5
}
